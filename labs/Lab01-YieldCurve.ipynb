{
 "cells": [
  {
   "cell_type": "markdown",
   "metadata": {},
   "source": [
    "# Lab 01 – Đường cong lợi suất (Yield Curve)\n",
    "\n",
    "**Mục tiêu:** Minh họa cách xây dựng và vẽ yield curve đơn giản bằng Python.\n",
    "\n",
    "**Giảng viên:** TS. Vũ Hữu Thành  \n",
    "**Môn học:** Phân tích Chứng khoán Nợ (Debt Securities Analysis)\n"
   ]
  },
  {
   "cell_type": "code",
   "execution_count": null,
   "metadata": {},
   "outputs": [],
   "source": [
    "import numpy as np\n",
    "import pandas as pd\n",
    "import matplotlib.pyplot as plt\n",
    "\n",
    "# Kỳ hạn và lợi suất giả định\n",
    "maturity = np.array([1, 2, 3, 5, 7, 10])\n",
    "yield_rate = np.array([4.2, 4.5, 4.7, 5.0, 5.2, 5.3])\n",
    "\n",
    "# Tạo DataFrame để minh họa\n",
    "df = pd.DataFrame({\n",
    "    'Kỳ hạn (năm)': maturity,\n",
    "    'Lợi suất (%)': yield_rate\n",
    "})\n",
    "display(df)\n"
   ]
  },
  {
   "cell_type": "code",
   "execution_count": null,
   "metadata": {},
   "outputs": [],
   "source": [
    "# Vẽ đường cong lợi suất\n",
    "plt.figure(figsize=(7,4))\n",
    "plt.plot(maturity, yield_rate, marker='o', linewidth=2)\n",
    "plt.title('Đường cong lợi suất (Yield Curve)', fontsize=14)\n",
    "plt.xlabel('Kỳ hạn (năm)')\n",
    "plt.ylabel('Lợi suất (%)')\n",
    "plt.grid(True)\n",
    "plt.show()"
   ]
  },
  {
   "cell_type": "markdown",
   "metadata": {},
   "source": [
    "---\n",
    "**Gợi ý mở rộng:**\n",
    "- Thử thay đổi các giá trị `yield_rate` để xem hình dạng đường cong thay đổi thế nào.\n",
    "- Thêm dữ liệu thực tế từ nguồn FRED hoặc Vietcombank để so sánh.\n",
    "- Dùng `seaborn` hoặc `plotly` để vẽ biểu đồ tương tác.\n"
   ]
  }
 ],
 "metadata": {
  "kernelspec": {
   "display_name": "Python 3",
   "language": "python",
   "name": "python3"
  },
  "language_info": {
   "name": "python",
   "version": "3.11"
  }
 },
 "nbformat": 4,
 "nbformat_minor": 2
}