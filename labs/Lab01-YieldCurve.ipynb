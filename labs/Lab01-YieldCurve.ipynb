import numpy as np
import pandas as pd
import matplotlib.pyplot as plt

maturity = np.array([1, 2, 3, 5, 7, 10])
yield_rate = np.array([4.2, 4.5, 4.7, 5.0, 5.2, 5.3])

plt.plot(maturity, yield_rate, marker='o')
plt.title("Đường cong lợi suất (Yield Curve)")
plt.xlabel("Kỳ hạn (năm)")
plt.ylabel("Lợi suất (%)")
plt.grid(True)
plt.show()
